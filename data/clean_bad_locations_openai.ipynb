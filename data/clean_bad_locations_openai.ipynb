{
 "cells": [
  {
   "cell_type": "code",
   "execution_count": null,
   "metadata": {},
   "outputs": [],
   "source": [
    "import os\n",
    "from typing import List\n",
    "\n",
    "import orjson\n",
    "from dotenv import load_dotenv\n",
    "from langchain.llms import OpenAI\n",
    "from langchain.output_parsers import PydanticOutputParser\n",
    "from langchain.prompts import PromptTemplate\n",
    "from pydantic import BaseModel, Field"
   ]
  },
  {
   "cell_type": "code",
   "execution_count": null,
   "metadata": {},
   "outputs": [],
   "source": [
    "load_dotenv()\n",
    "OPENAI_API_KEY = os.getenv(\"OPENAI_API_KEY\")"
   ]
  },
  {
   "cell_type": "code",
   "execution_count": null,
   "metadata": {},
   "outputs": [],
   "source": [
    "llm = OpenAI(model_name=\"text-davinci-003\", openai_api_key=OPENAI_API_KEY)\n",
    "llm"
   ]
  },
  {
   "cell_type": "code",
   "execution_count": null,
   "metadata": {},
   "outputs": [],
   "source": [
    "locations = [\n",
    "    \"Neuchâtel\",\n",
    "    \"Josefstrasse 219, Zurich\",\n",
    "    \"Zurich\",\n",
    "    \"EDF R&D Renardières\",\n",
    "    \"Lausanne, EPFL Innovation Park\",\n",
    "    \"Fribourg\",\n",
    "    \"Renens\",\n",
    "    \"Antony, France\",\n",
    "    \"Genève\",\n",
    "    \"Le Bourget du Lac (France,73)\",\n",
    "    \"Swisscom Digital Lab, EPFL Innovation Park, Bat F, 1015 Lausanne\",\n",
    "    \"Zürich, Nyon or Homeoffice\",\n",
    "    \"Oracle Labs Zurich, Switzerland (other locations or work from home available upon agreement)\",\n",
    "    \"Geneve\",\n",
    "    \"remote in Switzerland (we also have an office in Zürich)\",\n",
    "    \"Zürich\",\n",
    "    \"Chilly-Mazarin\",\n",
    "    \"Sophia Antipolis - France\",\n",
    "    \"CERN/Geneva\",\n",
    "    \":NANTERRE\",\n",
    "    \"Versoix\",\n",
    "    \"Palaiseau, FR\",\n",
    "    \"Hybrid\",\n",
    "    \"GRENOBLE (France)\",\n",
    "    \"Sachseln, OW\",\n",
    "    \"Europe\",\n",
    "    \"Nyon\",\n",
    "    \"RENENS VD\",\n",
    "    \"Vers-chez-les-blanc, VD\",\n",
    "    \"Neuchâtel or Bern\",\n",
    "    \"Cambridge, MA, USA\",\n",
    "    \"Princeton, NJ, USA\",\n",
    "    \"Milano\",\n",
    "    \"Lausanne/Geneva\",\n",
    "    \"E-Scopics, Aix-en-Provence, France\",\n",
    "    \"Martigny\",\n",
    "    \"The student will have the opportunity to work in a stimulating environment with other students in different locations (Lausanne, Bern, Zurich) in Switzerland depending on the needs of the projects.\",\n",
    "    \"Hinwil, Switzerland\",\n",
    "    \"Lyon, 69009 France\",\n",
    "    \"Payerne\",\n",
    "    \"Lausanne / Geneva\",\n",
    "    \"CROLLES\",\n",
    "    \"France, PACA, 13 - Istres\",\n",
    "    \"Aix en Provence, France\",\n",
    "    \"Lausanne-Prilly\",\n",
    "    \"LIRIS Lab and INRIA  (Lyon)\"\n",
    "]"
   ]
  },
  {
   "cell_type": "code",
   "execution_count": null,
   "metadata": {},
   "outputs": [],
   "source": [
    "class Location(BaseModel):\n",
    "    city: str = Field(description=\"city of a location\")\n",
    "    country: str = Field(description=\"country of a location\")\n",
    "\n",
    "class LocationDict(BaseModel):\n",
    "    locations: dict[str, List[Location]] = Field(description=\"dictionary of lists of locations with the original text as key\")\n",
    "\n",
    "# location_query = \"Extract the city and the country from a location in a json format.\"\n",
    "location_query = \"\"\"I have a list of locations but it is really badly designed.\n",
    "I want you to extract the city and the country from a location in a json format.\n",
    "I don't want a zipcode. Only city and country. Cities and countries should only be strings.\n",
    "Countries should not be acronyms: for example \"USA\" should be change to \"United States\".\n",
    "Infer the country if needed.\n",
    "\"\"\"\n",
    "\n",
    "parser = PydanticOutputParser(pydantic_object=LocationDict)\n",
    "\n",
    "print(parser.get_format_instructions())"
   ]
  },
  {
   "cell_type": "code",
   "execution_count": null,
   "metadata": {},
   "outputs": [],
   "source": [
    "prompt = PromptTemplate(\n",
    "    template=\"Answer the user query.\\n{format_instructions}\\n{query}\\nFormat the following locations:\\n{locations}\\n\",\n",
    "    input_variables=[\"locations\"],\n",
    "    partial_variables={\"format_instructions\": parser.get_format_instructions(), \"query\": location_query},\n",
    ")\n",
    "\n",
    "_input = prompt.format_prompt(locations=locations)\n",
    "print(_input.to_string())"
   ]
  },
  {
   "cell_type": "code",
   "execution_count": null,
   "metadata": {},
   "outputs": [],
   "source": [
    "output = llm(_input.to_string(), max_tokens=2000)\n",
    "print(output)"
   ]
  },
  {
   "cell_type": "code",
   "execution_count": null,
   "metadata": {},
   "outputs": [],
   "source": [
    "data = parser.parse(output)\n",
    "data"
   ]
  },
  {
   "cell_type": "code",
   "execution_count": null,
   "metadata": {},
   "outputs": [],
   "source": [
    "orjson.loads(data.json())"
   ]
  },
  {
   "cell_type": "code",
   "execution_count": null,
   "metadata": {},
   "outputs": [],
   "source": [
    "for value in data.locations.values():\n",
    "    for location in value:\n",
    "        if location.city == \"Zürich\":\n",
    "            location.city = \"Zurich\""
   ]
  },
  {
   "cell_type": "code",
   "execution_count": null,
   "metadata": {},
   "outputs": [],
   "source": [
    "import json\n",
    "\n",
    "with open('test.json', 'w') as f:\n",
    "    json.dump(orjson.loads(data.json()), f, indent=2, ensure_ascii=False)\n"
   ]
  }
 ],
 "metadata": {
  "kernelspec": {
   "display_name": "Python 3",
   "language": "python",
   "name": "python3"
  },
  "language_info": {
   "codemirror_mode": {
    "name": "ipython",
    "version": 3
   },
   "file_extension": ".py",
   "mimetype": "text/x-python",
   "name": "python",
   "nbconvert_exporter": "python",
   "pygments_lexer": "ipython3",
   "version": "3.10.10"
  },
  "orig_nbformat": 4
 },
 "nbformat": 4,
 "nbformat_minor": 2
}
